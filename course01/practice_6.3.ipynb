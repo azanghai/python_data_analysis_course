{
 "cells": [
  {
   "cell_type": "code",
   "execution_count": 5,
   "metadata": {
    "collapsed": true,
    "pycharm": {
     "name": "#%%\n"
    }
   },
   "outputs": [
    {
     "data": {
      "text/plain": "      Unnamed: 0        ID   品牌           车型  \\\n0              0   54632.0   大众         Golf   \n1              1   46820.0   雷诺  GrandScenic   \n2              2  111350.0  沃尔沃          V40   \n3              3   77294.0   现代         Ix20   \n4              4   24668.0   福特        Focus   \n...          ...       ...  ...          ...   \n9995        9995   30644.0   奔驰         A200   \n9996        9996   69278.0  雪铁龙       Jumper   \n9997        9997    4788.0   奥迪           A4   \n9998        9998   14122.0   宝马          318   \n9999        9999   60203.0   大众      Touareg   \n\n                                                   具体型号        上牌时间     马力  \\\n0                       1.2 Tsi Bmt Special Edition 110  2017-01-01   81.0   \n1                 G.Sc�nic 1.5Dci Energy Selection 7Pl.  2016-07-01   81.0   \n2                           D-3 Momentum 150Cv Auto. 5P  2014-03-01  110.0   \n3               1.6 Crdi Bluedrive Comfort 85Kw (115Cv)  2012-12-01   85.0   \n4                                      1.6Tdci Business  2009-12-01   66.0   \n...                                                 ...         ...    ...   \n9995                                       Cdi Be Urban  2015-12-01  100.0   \n9996                                Bluehdi L2H1 Furg�n  2018-02-01   85.0   \n9997              2.0 Tdi Sport Edition 110 Kw (150 Cv)  2016-01-01  110.0   \n9998                                     D Gran Turismo  2016-04-01  110.0   \n9999  Touareg V6 Tdi * Susp. Neumatica * Xenon * Nav...  2013-09-01  180.0   \n\n     变速箱类型  燃料   里程数(km)   保值率    year  \n0       手动  汽油   10000.0  0.54  2017.0  \n1       手动  柴油   12600.0  0.51  2016.0  \n2       自动  柴油   93574.0  0.62  2014.0  \n3       手动  柴油   96000.0  0.66  2012.0  \n4       手动  柴油  142000.0  0.65  2009.0  \n...    ...  ..       ...   ...     ...  \n9995    手动  柴油   50000.0  0.68  2015.0  \n9996    手动  柴油       1.0  0.69  2018.0  \n9997    手动  柴油       5.0  0.67  2016.0  \n9998    自动  柴油   35155.0  0.65  2016.0  \n9999    自动  柴油  125721.0  0.52  2013.0  \n\n[10000 rows x 12 columns]",
      "text/html": "<div>\n<style scoped>\n    .dataframe tbody tr th:only-of-type {\n        vertical-align: middle;\n    }\n\n    .dataframe tbody tr th {\n        vertical-align: top;\n    }\n\n    .dataframe thead th {\n        text-align: right;\n    }\n</style>\n<table border=\"1\" class=\"dataframe\">\n  <thead>\n    <tr style=\"text-align: right;\">\n      <th></th>\n      <th>Unnamed: 0</th>\n      <th>ID</th>\n      <th>品牌</th>\n      <th>车型</th>\n      <th>具体型号</th>\n      <th>上牌时间</th>\n      <th>马力</th>\n      <th>变速箱类型</th>\n      <th>燃料</th>\n      <th>里程数(km)</th>\n      <th>保值率</th>\n      <th>year</th>\n    </tr>\n  </thead>\n  <tbody>\n    <tr>\n      <th>0</th>\n      <td>0</td>\n      <td>54632.0</td>\n      <td>大众</td>\n      <td>Golf</td>\n      <td>1.2 Tsi Bmt Special Edition 110</td>\n      <td>2017-01-01</td>\n      <td>81.0</td>\n      <td>手动</td>\n      <td>汽油</td>\n      <td>10000.0</td>\n      <td>0.54</td>\n      <td>2017.0</td>\n    </tr>\n    <tr>\n      <th>1</th>\n      <td>1</td>\n      <td>46820.0</td>\n      <td>雷诺</td>\n      <td>GrandScenic</td>\n      <td>G.Sc�nic 1.5Dci Energy Selection 7Pl.</td>\n      <td>2016-07-01</td>\n      <td>81.0</td>\n      <td>手动</td>\n      <td>柴油</td>\n      <td>12600.0</td>\n      <td>0.51</td>\n      <td>2016.0</td>\n    </tr>\n    <tr>\n      <th>2</th>\n      <td>2</td>\n      <td>111350.0</td>\n      <td>沃尔沃</td>\n      <td>V40</td>\n      <td>D-3 Momentum 150Cv Auto. 5P</td>\n      <td>2014-03-01</td>\n      <td>110.0</td>\n      <td>自动</td>\n      <td>柴油</td>\n      <td>93574.0</td>\n      <td>0.62</td>\n      <td>2014.0</td>\n    </tr>\n    <tr>\n      <th>3</th>\n      <td>3</td>\n      <td>77294.0</td>\n      <td>现代</td>\n      <td>Ix20</td>\n      <td>1.6 Crdi Bluedrive Comfort 85Kw (115Cv)</td>\n      <td>2012-12-01</td>\n      <td>85.0</td>\n      <td>手动</td>\n      <td>柴油</td>\n      <td>96000.0</td>\n      <td>0.66</td>\n      <td>2012.0</td>\n    </tr>\n    <tr>\n      <th>4</th>\n      <td>4</td>\n      <td>24668.0</td>\n      <td>福特</td>\n      <td>Focus</td>\n      <td>1.6Tdci Business</td>\n      <td>2009-12-01</td>\n      <td>66.0</td>\n      <td>手动</td>\n      <td>柴油</td>\n      <td>142000.0</td>\n      <td>0.65</td>\n      <td>2009.0</td>\n    </tr>\n    <tr>\n      <th>...</th>\n      <td>...</td>\n      <td>...</td>\n      <td>...</td>\n      <td>...</td>\n      <td>...</td>\n      <td>...</td>\n      <td>...</td>\n      <td>...</td>\n      <td>...</td>\n      <td>...</td>\n      <td>...</td>\n      <td>...</td>\n    </tr>\n    <tr>\n      <th>9995</th>\n      <td>9995</td>\n      <td>30644.0</td>\n      <td>奔驰</td>\n      <td>A200</td>\n      <td>Cdi Be Urban</td>\n      <td>2015-12-01</td>\n      <td>100.0</td>\n      <td>手动</td>\n      <td>柴油</td>\n      <td>50000.0</td>\n      <td>0.68</td>\n      <td>2015.0</td>\n    </tr>\n    <tr>\n      <th>9996</th>\n      <td>9996</td>\n      <td>69278.0</td>\n      <td>雪铁龙</td>\n      <td>Jumper</td>\n      <td>Bluehdi L2H1 Furg�n</td>\n      <td>2018-02-01</td>\n      <td>85.0</td>\n      <td>手动</td>\n      <td>柴油</td>\n      <td>1.0</td>\n      <td>0.69</td>\n      <td>2018.0</td>\n    </tr>\n    <tr>\n      <th>9997</th>\n      <td>9997</td>\n      <td>4788.0</td>\n      <td>奥迪</td>\n      <td>A4</td>\n      <td>2.0 Tdi Sport Edition 110 Kw (150 Cv)</td>\n      <td>2016-01-01</td>\n      <td>110.0</td>\n      <td>手动</td>\n      <td>柴油</td>\n      <td>5.0</td>\n      <td>0.67</td>\n      <td>2016.0</td>\n    </tr>\n    <tr>\n      <th>9998</th>\n      <td>9998</td>\n      <td>14122.0</td>\n      <td>宝马</td>\n      <td>318</td>\n      <td>D Gran Turismo</td>\n      <td>2016-04-01</td>\n      <td>110.0</td>\n      <td>自动</td>\n      <td>柴油</td>\n      <td>35155.0</td>\n      <td>0.65</td>\n      <td>2016.0</td>\n    </tr>\n    <tr>\n      <th>9999</th>\n      <td>9999</td>\n      <td>60203.0</td>\n      <td>大众</td>\n      <td>Touareg</td>\n      <td>Touareg V6 Tdi * Susp. Neumatica * Xenon * Nav...</td>\n      <td>2013-09-01</td>\n      <td>180.0</td>\n      <td>自动</td>\n      <td>柴油</td>\n      <td>125721.0</td>\n      <td>0.52</td>\n      <td>2013.0</td>\n    </tr>\n  </tbody>\n</table>\n<p>10000 rows × 12 columns</p>\n</div>"
     },
     "execution_count": 5,
     "metadata": {},
     "output_type": "execute_result"
    }
   ],
   "source": [
    "import pandas as pd\n",
    "\n",
    "test_data = pd.read_csv('./工作/test_data.csv', encoding='utf-8')\n",
    "date_data = pd.to_datetime(test_data['上牌时间'], format='%Y-%m-%d')\n",
    "year_data = date_data.dt.year\n",
    "test_data['year'] = year_data\n",
    "test_data.to_csv('./工作/test_data_clean.csv', encoding='utf-8')"
   ]
  }
 ],
 "metadata": {
  "kernelspec": {
   "display_name": "Python 3",
   "language": "python",
   "name": "python3"
  },
  "language_info": {
   "codemirror_mode": {
    "name": "ipython",
    "version": 2
   },
   "file_extension": ".py",
   "mimetype": "text/x-python",
   "name": "python",
   "nbconvert_exporter": "python",
   "pygments_lexer": "ipython2",
   "version": "2.7.6"
  }
 },
 "nbformat": 4,
 "nbformat_minor": 0
}